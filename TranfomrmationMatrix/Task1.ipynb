{
 "cells": [
  {
   "cell_type": "code",
   "execution_count": 1,
   "metadata": {},
   "outputs": [],
   "source": [
    "import numpy as np "
   ]
  },
  {
   "cell_type": "markdown",
   "metadata": {},
   "source": [
    "### Task 1 Solution \n"
   ]
  },
  {
   "cell_type": "markdown",
   "metadata": {},
   "source": [
    "##### Tranformation Matrix of the camera with respect to the base frame "
   ]
  },
  {
   "cell_type": "code",
   "execution_count": 2,
   "metadata": {},
   "outputs": [
    {
     "data": {
      "text/plain": [
       "array([[-1. ,  0. ,  1. ,  0. ],\n",
       "       [ 0. ,  0. , -1. , -0.7],\n",
       "       [ 0. , -1. ,  0. ,  0.7],\n",
       "       [ 0. ,  0. ,  0. ,  1. ]])"
      ]
     },
     "execution_count": 2,
     "metadata": {},
     "output_type": "execute_result"
    }
   ],
   "source": [
    "T_camera_wrt_base = np.array([[-1,0,1,0],\n",
    "                            [0,0 ,-1 ,-0.7],\n",
    "                            [0,-1,0,0.7],\n",
    "                            [0,0,0,1]])\n",
    "T_camera_wrt_base"
   ]
  },
  {
   "cell_type": "markdown",
   "metadata": {},
   "source": [
    "##### Transformation Matrix of the workpiece with respect to camera frame "
   ]
  },
  {
   "cell_type": "code",
   "execution_count": 3,
   "metadata": {},
   "outputs": [
    {
     "data": {
      "text/plain": [
       "array([[ 0.93    , -0.353   ,  0.0669  ,  0.2     ],\n",
       "       [ 0.3535  ,  0.866   , -0.35355 ,  0.      ],\n",
       "       [ 0.669783,  0.35355 ,  0.933   ,  0.5     ],\n",
       "       [ 0.      ,  0.      ,  0.      ,  1.      ]])"
      ]
     },
     "execution_count": 3,
     "metadata": {},
     "output_type": "execute_result"
    }
   ],
   "source": [
    "T_wp_wrt_camera = np.array([[0.93,-0.353,0.0669,0.2],\n",
    "                            [0.3535,0.8660 ,-0.35355 ,0],\n",
    "                            [0.669783,0.35355,0.9330,0.5],\n",
    "                            [0,0,0,1]])\n",
    "T_wp_wrt_camera"
   ]
  },
  {
   "cell_type": "markdown",
   "metadata": {},
   "source": [
    "##### Poistion of h1 with respect to the workpiece "
   ]
  },
  {
   "cell_type": "code",
   "execution_count": 4,
   "metadata": {},
   "outputs": [],
   "source": [
    "T_h1 = np.array([[1,0,0,0.2],\n",
    "                [0,1,0,0.2],\n",
    "                [0,0,1,0],\n",
    "                [0,0,0,1]])"
   ]
  },
  {
   "cell_type": "code",
   "execution_count": 5,
   "metadata": {},
   "outputs": [
    {
     "data": {
      "text/plain": [
       "array([[-0.260217 ,  0.70655  ,  0.8661   ,  0.3892666],\n",
       "       [-0.669783 , -0.35355  , -0.933    , -1.4046666],\n",
       "       [-0.3535   , -0.866    ,  0.35355  ,  0.4561   ],\n",
       "       [ 0.       ,  0.       ,  0.       ,  1.       ]])"
      ]
     },
     "execution_count": 5,
     "metadata": {},
     "output_type": "execute_result"
    }
   ],
   "source": [
    "T_h1_wrt_base = np.matmul((np.matmul(T_camera_wrt_base,T_wp_wrt_camera)),T_h1)\n",
    "T_h1_wrt_base"
   ]
  },
  {
   "cell_type": "code",
   "execution_count": 10,
   "metadata": {},
   "outputs": [
    {
     "data": {
      "text/plain": [
       "array([[ 1. ,  0. ,  0. ,  0.2],\n",
       "       [ 0. ,  1. ,  0. , -0.2],\n",
       "       [ 0. ,  0. ,  1. ,  0. ],\n",
       "       [ 0. ,  0. ,  0. ,  1. ]])"
      ]
     },
     "execution_count": 10,
     "metadata": {},
     "output_type": "execute_result"
    }
   ],
   "source": [
    "T_h2 = np.array([[1,0,0,0.2],\n",
    "                [0,1,0,-0.2],\n",
    "                [0,0,1,0],\n",
    "                [0,0,0,1]])\n",
    "T_h2"
   ]
  },
  {
   "cell_type": "code",
   "execution_count": 13,
   "metadata": {},
   "outputs": [
    {
     "data": {
      "text/plain": [
       "array([[-0.260217 ,  0.70655  ,  0.8661   ,  0.1066466],\n",
       "       [-0.669783 , -0.35355  , -0.933    , -1.2632466],\n",
       "       [-0.3535   , -0.866    ,  0.35355  ,  0.8025   ],\n",
       "       [ 0.       ,  0.       ,  0.       ,  1.       ]])"
      ]
     },
     "execution_count": 13,
     "metadata": {},
     "output_type": "execute_result"
    }
   ],
   "source": [
    "T_h2_wrt_base = np.matmul((np.matmul(T_camera_wrt_base,T_wp_wrt_camera)),T_h2)\n",
    "T_h2_wrt_base"
   ]
  },
  {
   "cell_type": "code",
   "execution_count": 11,
   "metadata": {},
   "outputs": [
    {
     "data": {
      "text/plain": [
       "array([[ 1. ,  0. ,  0. , -0.2],\n",
       "       [ 0. ,  1. ,  0. ,  0.2],\n",
       "       [ 0. ,  0. ,  1. ,  0. ],\n",
       "       [ 0. ,  0. ,  0. ,  1. ]])"
      ]
     },
     "execution_count": 11,
     "metadata": {},
     "output_type": "execute_result"
    }
   ],
   "source": [
    "T_h3 = np.array([[1,0,0,-0.2],\n",
    "                [0,1,0,0.2],\n",
    "                [0,0,1,0],\n",
    "                [0,0,0,1]])\n",
    "T_h3"
   ]
  },
  {
   "cell_type": "code",
   "execution_count": 14,
   "metadata": {},
   "outputs": [
    {
     "data": {
      "text/plain": [
       "array([[-0.260217 ,  0.70655  ,  0.8661   ,  0.4933534],\n",
       "       [-0.669783 , -0.35355  , -0.933    , -1.1367534],\n",
       "       [-0.3535   , -0.866    ,  0.35355  ,  0.5975   ],\n",
       "       [ 0.       ,  0.       ,  0.       ,  1.       ]])"
      ]
     },
     "execution_count": 14,
     "metadata": {},
     "output_type": "execute_result"
    }
   ],
   "source": [
    "T_h3_wrt_base = np.matmul((np.matmul(T_camera_wrt_base,T_wp_wrt_camera)),T_h3)\n",
    "T_h3_wrt_base"
   ]
  },
  {
   "cell_type": "code",
   "execution_count": 12,
   "metadata": {},
   "outputs": [
    {
     "data": {
      "text/plain": [
       "array([[ 1. ,  0. ,  0. , -0.2],\n",
       "       [ 0. ,  1. ,  0. , -0.2],\n",
       "       [ 0. ,  0. ,  1. ,  0. ],\n",
       "       [ 0. ,  0. ,  0. ,  1. ]])"
      ]
     },
     "execution_count": 12,
     "metadata": {},
     "output_type": "execute_result"
    }
   ],
   "source": [
    "T_h4 = np.array([[1,0,0,-0.2],\n",
    "                [0,1,0,-0.2],\n",
    "                [0,0,1,0],\n",
    "                [0,0,0,1]])\n",
    "T_h4"
   ]
  },
  {
   "cell_type": "code",
   "execution_count": 15,
   "metadata": {},
   "outputs": [
    {
     "data": {
      "text/plain": [
       "array([[-0.260217 ,  0.70655  ,  0.8661   ,  0.2107334],\n",
       "       [-0.669783 , -0.35355  , -0.933    , -0.9953334],\n",
       "       [-0.3535   , -0.866    ,  0.35355  ,  0.9439   ],\n",
       "       [ 0.       ,  0.       ,  0.       ,  1.       ]])"
      ]
     },
     "execution_count": 15,
     "metadata": {},
     "output_type": "execute_result"
    }
   ],
   "source": [
    "T_h4_wrt_base = np.matmul((np.matmul(T_camera_wrt_base,T_wp_wrt_camera)),T_h4)\n",
    "T_h4_wrt_base"
   ]
  },
  {
   "cell_type": "markdown",
   "metadata": {},
   "source": [
    "##### The same should be done for holes 2,3,4 "
   ]
  },
  {
   "cell_type": "markdown",
   "metadata": {},
   "source": [
    "#### Task2 "
   ]
  },
  {
   "cell_type": "code",
   "execution_count": 6,
   "metadata": {},
   "outputs": [
    {
     "data": {
      "text/plain": [
       "array([[1. , 0. , 0. , 0. ],\n",
       "       [0. , 1. , 0. , 0. ],\n",
       "       [0. , 0. , 1. , 0.1],\n",
       "       [0. , 0. , 0. , 1. ]])"
      ]
     },
     "execution_count": 6,
     "metadata": {},
     "output_type": "execute_result"
    }
   ],
   "source": [
    "T_h1_wrt_camera = np.array([[1,0,0,0],\n",
    "                            [0,1,0,0],\n",
    "                            [0,0,1,0.1],\n",
    "                            [0,0,0,1]])\n",
    "T_h1_wrt_camera"
   ]
  },
  {
   "cell_type": "code",
   "execution_count": 7,
   "metadata": {},
   "outputs": [
    {
     "data": {
      "text/plain": [
       "array([[ 1. ,  0. ,  0. ,  0. ],\n",
       "       [ 0. ,  1. ,  0. ,  0. ],\n",
       "       [ 0. ,  0. ,  1. , -0.1],\n",
       "       [ 0. ,  0. ,  0. ,  1. ]])"
      ]
     },
     "execution_count": 7,
     "metadata": {},
     "output_type": "execute_result"
    }
   ],
   "source": [
    "T_h1_wrt_camera_inv= np.linalg.inv(T_h1_wrt_camera)\n",
    "T_h1_wrt_camera_inv"
   ]
  },
  {
   "cell_type": "code",
   "execution_count": 8,
   "metadata": {},
   "outputs": [
    {
     "data": {
      "text/plain": [
       "array([[-0.260217 ,  0.70655  ,  0.8661   ,  0.3026566],\n",
       "       [-0.669783 , -0.35355  , -0.933    , -1.3113666],\n",
       "       [-0.3535   , -0.866    ,  0.35355  ,  0.420745 ],\n",
       "       [ 0.       ,  0.       ,  0.       ,  1.       ]])"
      ]
     },
     "execution_count": 8,
     "metadata": {},
     "output_type": "execute_result"
    }
   ],
   "source": [
    "T_new_camera_wrt_base = np.matmul(T_h1_wrt_base,T_h1_wrt_camera_inv)\n",
    "T_new_camera_wrt_base"
   ]
  }
 ],
 "metadata": {
  "kernelspec": {
   "display_name": "Python 3",
   "language": "python",
   "name": "python3"
  },
  "language_info": {
   "codemirror_mode": {
    "name": "ipython",
    "version": 3
   },
   "file_extension": ".py",
   "mimetype": "text/x-python",
   "name": "python",
   "nbconvert_exporter": "python",
   "pygments_lexer": "ipython3",
   "version": "3.8.10"
  }
 },
 "nbformat": 4,
 "nbformat_minor": 2
}
